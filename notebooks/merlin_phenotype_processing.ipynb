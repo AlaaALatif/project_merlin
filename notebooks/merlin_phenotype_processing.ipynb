{
 "cells": [
  {
   "cell_type": "code",
   "execution_count": null,
   "id": "120b87ea",
   "metadata": {},
   "outputs": [],
   "source": [
    "import numpy as np\n",
    "import pandas as pd\n",
    "import matplotlib.pyplot as plt\n",
    "import seaborn as sns\n",
    "from matplotlib.lines import Line2D\n",
    "from scipy.stats import linregress\n",
    "from scipy.stats import ttest_rel, wilcoxon"
   ]
  },
  {
   "cell_type": "code",
   "execution_count": null,
   "id": "65333d9b",
   "metadata": {},
   "outputs": [],
   "source": [
    "target_name = 'CD4 counts'"
   ]
  },
  {
   "cell_type": "code",
   "execution_count": null,
   "id": "4fec3c66",
   "metadata": {},
   "outputs": [],
   "source": [
    "metadf = pd.read_excel(\"/Users/alaa/Downloads/metadata_round1.xlsx\")"
   ]
  },
  {
   "cell_type": "code",
   "execution_count": null,
   "id": "0ab859ea",
   "metadata": {},
   "outputs": [],
   "source": [
    "len(metadf.columns.tolist())"
   ]
  },
  {
   "cell_type": "code",
   "execution_count": null,
   "id": "00b78d3f",
   "metadata": {},
   "outputs": [],
   "source": [
    "metadf.columns"
   ]
  },
  {
   "cell_type": "code",
   "execution_count": null,
   "id": "a0683b04",
   "metadata": {},
   "outputs": [],
   "source": [
    "metadf['PTID'].nunique()"
   ]
  },
  {
   "cell_type": "code",
   "execution_count": null,
   "id": "e1194dcf",
   "metadata": {},
   "outputs": [],
   "source": [
    "metadf.shape"
   ]
  },
  {
   "cell_type": "code",
   "execution_count": null,
   "id": "b637f959",
   "metadata": {},
   "outputs": [],
   "source": [
    "cd4df = metadf.loc[~metadf[target_name].isna()].copy()\n",
    "print(cd4df.shape)"
   ]
  },
  {
   "cell_type": "code",
   "execution_count": null,
   "id": "ad87036e",
   "metadata": {},
   "outputs": [],
   "source": [
    "cd4df['Time point'].unique()"
   ]
  },
  {
   "cell_type": "code",
   "execution_count": null,
   "id": "149673d0",
   "metadata": {},
   "outputs": [],
   "source": [
    "cd4df.loc[cd4df['group'] == \"Defered\", 'group'] = \"Deferred\"\n",
    "cd4df.loc[cd4df['group'] == \"Deferred \", 'group'] = \"Deferred\"\n",
    "cd4df.loc[cd4df['group'] == \"Immediate \", 'group'] = \"Immediate\""
   ]
  },
  {
   "cell_type": "code",
   "execution_count": null,
   "id": "c217ac4b",
   "metadata": {},
   "outputs": [],
   "source": [
    "cd4df['group'].unique()"
   ]
  },
  {
   "cell_type": "code",
   "execution_count": null,
   "id": "77808d8b",
   "metadata": {},
   "outputs": [],
   "source": [
    "# cd4df['Time point']"
   ]
  },
  {
   "cell_type": "code",
   "execution_count": null,
   "id": "013e2879",
   "metadata": {},
   "outputs": [],
   "source": [
    "df = cd4df.loc[cd4df['Time point'].isin(['DX', 'M12', 'M3','M6'])].copy()\n",
    "df['timepoint'] = 0\n",
    "df.loc[df['Time point']=='M3', 'timepoint'] = 1\n",
    "df.loc[df['Time point']=='M6', 'timepoint'] = 2\n",
    "df.loc[df['Time point']=='M12', 'timepoint'] = 3\n",
    "df['timepoint'].value_counts()"
   ]
  },
  {
   "cell_type": "code",
   "execution_count": null,
   "id": "2b175b80",
   "metadata": {},
   "outputs": [],
   "source": [
    "df['pid'] = df['PTID'].copy()"
   ]
  },
  {
   "cell_type": "code",
   "execution_count": null,
   "id": "a67e8a6a",
   "metadata": {},
   "outputs": [],
   "source": [
    "df.loc[df['Viral loads']=='Undetectable', 'Viral loads'] = 0"
   ]
  },
  {
   "cell_type": "code",
   "execution_count": null,
   "id": "0072c091",
   "metadata": {},
   "outputs": [],
   "source": [
    "# df['cd4_counts'] = df['CD4 counts'].astype(float)\n",
    "df[f\"{target_name.lower().replace(' ', '_')}\"] = df[target_name].astype(float)\n",
    "# df['viral_load'] = df['Viral loads'].astype(int)"
   ]
  },
  {
   "cell_type": "code",
   "execution_count": null,
   "id": "bfc2ef57",
   "metadata": {},
   "outputs": [],
   "source": [
    "if ignore_dx_timepoint:\n",
    "    df = df.loc[df['timepoint']!=0].copy()\n",
    "    df['timepoint'] -= 1"
   ]
  },
  {
   "cell_type": "code",
   "execution_count": null,
   "id": "20d9bbe6",
   "metadata": {},
   "outputs": [],
   "source": [
    "plt.figure(figsize=(10, 6))\n",
    "\n",
    "# Draw the boxplot for CD4 counts by timepoint\n",
    "sns.boxplot(data=df, x='timepoint', y=f\"{target_name.lower().replace(' ', '_')}\", color='lightblue', showfliers=False)\n",
    "\n",
    "# Define colors and markers for each group\n",
    "unique_groups = df['group'].unique()\n",
    "markers = ['o', '^']\n",
    "colors = sns.color_palette(\"tab10\", len(unique_groups))\n",
    "group_styles = {\n",
    "    group: {'color': colors[i], 'marker': markers[i % len(markers)]}\n",
    "    for i, group in enumerate(unique_groups)\n",
    "}\n",
    "\n",
    "# Plot individual patient lines with dots styled by group\n",
    "for pid, patient_df in df.groupby('pid'):\n",
    "    patient_df = patient_df.sort_values('timepoint')\n",
    "    group_val = patient_df['group'].iloc[0]\n",
    "    style = group_styles[group_val]\n",
    "    plt.plot(\n",
    "        patient_df['timepoint'],\n",
    "        patient_df[f\"{target_name.lower().replace(' ', '_')}\"],\n",
    "        color=style['color'],\n",
    "        marker=style['marker'],\n",
    "        linestyle='-',\n",
    "        alpha=0.7\n",
    "    )\n",
    "\n",
    "# Compute the mean CD4 count per group and timepoint\n",
    "group_mean_df = df.groupby(['group', 'timepoint'], as_index=False)['cd4_counts'].mean()\n",
    "\n",
    "# Compute paired differences for each group to get the slope and standard error.\n",
    "# (Since there are only two timepoints, the slope is just the mean difference.)\n",
    "slope_stats = {}\n",
    "for group in unique_groups:\n",
    "    group_df = df[df['group'] == group]\n",
    "    # Pivot so that each row is a patient with columns for each timepoint\n",
    "    pivot_df = group_df.pivot(index='pid', columns='timepoint', values=f\"{target_name.lower().replace(' ', '_')}\")\n",
    "    # Compute the paired difference (timepoint 2 minus timepoint 1)\n",
    "    paired_diff = pivot_df[2] - pivot_df[1]\n",
    "    mean_diff = paired_diff.mean()  # This is the slope since (2-1)==1\n",
    "    se_diff = paired_diff.std(ddof=1) / np.sqrt(len(paired_diff))\n",
    "    slope_stats[group] = {'slope': mean_diff, 'se': se_diff}\n",
    "\n",
    "# Plot the mean line for each group connecting the mean values across timepoints\n",
    "for group in unique_groups:\n",
    "    grp_mean = group_mean_df[group_mean_df['group'] == group].sort_values('timepoint')\n",
    "    plt.plot(\n",
    "        grp_mean['timepoint'],\n",
    "        grp_mean[f\"{target_name.lower().replace(' ', '_')}\"],\n",
    "        color=group_styles[group]['color'],\n",
    "        marker='o',\n",
    "        linestyle='--',\n",
    "        linewidth=3,\n",
    "        label=f\"{group.capitalize()} Mean Line (slope = {slope_stats[group]['slope']:.2f})\"\n",
    "    )\n",
    "\n",
    "plt.xlabel('Timepoint')\n",
    "plt.ylabel(f'{target_name}')\n",
    "plt.title(f'{target_name}')\n",
    "plt.legend(title='Legend', bbox_to_anchor=(1.05, 1), loc='upper left')\n",
    "plt.tight_layout()\n",
    "plt.show()\n"
   ]
  },
  {
   "cell_type": "code",
   "execution_count": null,
   "id": "1bef67df",
   "metadata": {},
   "outputs": [],
   "source": [
    "plt.figure(figsize=(10, 6))\n",
    "# Create the boxplot for CD4 counts by timepoint\n",
    "sns.boxplot(data=df, x='timepoint', y=f\"{target_name.lower().replace(' ', '_')}\", color='lightblue', showfliers=False)\n",
    "\n",
    "# Automatically assign marker styles and colors for each unique group\n",
    "unique_groups = df['group'].unique()\n",
    "markers = ['o', '^']  # list of marker styles\n",
    "colors = sns.color_palette(\"tab10\", len(unique_groups))\n",
    "group_styles = {\n",
    "    group: {'color': colors[i], 'marker': markers[i % len(markers)]}\n",
    "    for i, group in enumerate(unique_groups)\n",
    "}\n",
    "\n",
    "# Overlay lines and dots for each patient\n",
    "for pid, group_df in df.groupby('pid'):\n",
    "    group_df = group_df.sort_values('timepoint')  # ensure correct time order\n",
    "    # Assume each patient belongs to a single group; get the first row's group\n",
    "    group_val = group_df['group'].iloc[0]\n",
    "    style = group_styles[group_val]\n",
    "    # Plot the connecting line with markers\n",
    "    plt.plot(\n",
    "        group_df['timepoint'], \n",
    "        group_df[f\"{target_name.lower().replace(' ', '_')}\"], \n",
    "        color=style['color'], \n",
    "        marker=style['marker'], \n",
    "        linestyle='-', \n",
    "        alpha=0.7\n",
    "    )\n",
    "    \n",
    "# Compute per-patient slopes and intercepts using linear regression\n",
    "patient_params = []\n",
    "for pid, patient_df in df.groupby('pid'):\n",
    "    patient_df = patient_df.sort_values('timepoint')\n",
    "    if len(patient_df) >= 2:\n",
    "        res = linregress(patient_df['timepoint'], patient_df['cd4_counts'])\n",
    "        group_val = patient_df['group'].iloc[0]\n",
    "        patient_params.append({'pid': pid, 'group': group_val, 'slope': res.slope, 'intercept': res.intercept})\n",
    "        \n",
    "params_df = pd.DataFrame(patient_params)\n",
    "\n",
    "# Compute group-level statistics for slopes: mean, standard deviation, count, and standard error\n",
    "group_stats = params_df.groupby('group')['slope'].agg(['mean', 'std', 'count']).reset_index()\n",
    "group_stats['se'] = group_stats['std'] / np.sqrt(group_stats['count'])\n",
    "\n",
    "# Compute the mean intercept for each group (for plotting the mean line)\n",
    "mean_intercepts = params_df.groupby('group')['intercept'].mean().reset_index()\n",
    "group_stats = pd.merge(group_stats, mean_intercepts, on='group')  # columns: group, mean, std, count, se, intercept\n",
    "\n",
    "# Determine the overall range of timepoints for plotting the mean lines\n",
    "x_min = df['timepoint'].min()\n",
    "x_max = df['timepoint'].max()\n",
    "x_vals = np.linspace(x_min, x_max, 100)\n",
    "\n",
    "# Plot the mean line for each group with slope and standard error annotated in the label\n",
    "for idx, row in group_stats.iterrows():\n",
    "    grp = row['group']\n",
    "    mean_slope = row['mean']\n",
    "    se = row['se']\n",
    "    mean_intercept = row['intercept']\n",
    "    y_vals = mean_intercept + mean_slope * x_vals\n",
    "    plt.plot(\n",
    "        x_vals, y_vals,\n",
    "        color=group_styles[grp]['color'],\n",
    "        linestyle='--',\n",
    "        linewidth=3,\n",
    "        label=f'{grp.capitalize()} Mean Line (slope = {mean_slope:.2f})'\n",
    "    )\n",
    "\n",
    "# To avoid duplicate legend entries from patients and mean lines, we deduplicate the legend\n",
    "handles, labels = plt.gca().get_legend_handles_labels()\n",
    "by_label = dict(zip(labels, handles))\n",
    "plt.legend(by_label.values(), by_label.keys(), title='Legend', bbox_to_anchor=(0.05, 1), loc='upper left')\n",
    "\n",
    "# Create a custom legend for the groups\n",
    "# legend_elements = [\n",
    "#     Line2D([0], [0], color=group_styles[group]['color'], marker=group_styles[group]['marker'], \n",
    "#            linestyle='-', label=group)\n",
    "#     for group in group_styles\n",
    "# ]\n",
    "# plt.legend(handles=legend_elements, title=\"Group\", bbox_to_anchor=(1.05, 1), loc='upper left')\n",
    "# plt.ylim(0, 1000000)\n",
    "plt.xlabel('Timepoint')\n",
    "plt.ylabel(f'{target_name}')\n",
    "plt.title(f'{target_name} per Patient Across Timepoints')\n",
    "plt.tight_layout()\n",
    "plt.show()"
   ]
  },
  {
   "cell_type": "code",
   "execution_count": null,
   "id": "dc13b291",
   "metadata": {},
   "outputs": [],
   "source": [
    "# Ensure proper ordering\n",
    "df = df.sort_values(['group', 'pid', 'timepoint'])\n",
    "\n",
    "# Identify unique timepoints and groups\n",
    "timepoints = sorted(df['timepoint'].unique())\n",
    "groups = df['group'].unique()\n",
    "\n",
    "results = []\n",
    "\n",
    "# Loop over groups\n",
    "for group in groups:\n",
    "    group_df = df[df['group'] == group]\n",
    "    # Pivot to have patients as rows and timepoints as columns\n",
    "    pivot_df = group_df.pivot(index='pid', columns='timepoint', values=f\"{target_name.lower().replace(' ', '_')}\")\n",
    "    \n",
    "    # Loop over consecutive pairs of timepoints\n",
    "    for i in range(len(timepoints) - 1):\n",
    "        tp1 = timepoints[i]\n",
    "        tp2 = timepoints[i+1]\n",
    "        # Drop patients missing data at either timepoint\n",
    "        paired_data = pivot_df[[tp1, tp2]].dropna()\n",
    "        if len(paired_data) < 2:\n",
    "            continue  # Skip if not enough pairs for a statistical test\n",
    "        \n",
    "        counts_tp1 = paired_data[tp1]\n",
    "        counts_tp2 = paired_data[tp2]\n",
    "        \n",
    "        # Choose the paired t-test\n",
    "        t_stat, p_value = ttest_rel(counts_tp1, counts_tp2)\n",
    "        \n",
    "        # Alternatively, you could use the Wilcoxon signed-rank test:\n",
    "        # stat, p_value = wilcoxon(counts_tp1, counts_tp2)\n",
    "        \n",
    "        results.append({\n",
    "            'group': group,\n",
    "            'timepoint_pair': f\"{tp1} vs {tp2}\",\n",
    "            'n': len(paired_data),\n",
    "            't_stat': t_stat,\n",
    "            'p_value': p_value\n",
    "        })\n",
    "\n",
    "results_df = pd.DataFrame(results)\n",
    "print(results_df)"
   ]
  },
  {
   "cell_type": "code",
   "execution_count": null,
   "id": "c031b932",
   "metadata": {},
   "outputs": [],
   "source": []
  },
  {
   "cell_type": "code",
   "execution_count": null,
   "id": "442062e3",
   "metadata": {},
   "outputs": [],
   "source": []
  }
 ],
 "metadata": {
  "kernelspec": {
   "display_name": "Python 3 (ipykernel)",
   "language": "python",
   "name": "python3"
  },
  "language_info": {
   "codemirror_mode": {
    "name": "ipython",
    "version": 3
   },
   "file_extension": ".py",
   "mimetype": "text/x-python",
   "name": "python",
   "nbconvert_exporter": "python",
   "pygments_lexer": "ipython3",
   "version": "3.10.13"
  }
 },
 "nbformat": 4,
 "nbformat_minor": 5
}
